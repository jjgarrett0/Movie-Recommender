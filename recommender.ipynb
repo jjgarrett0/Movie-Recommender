{
 "cells": [
  {
   "cell_type": "code",
   "execution_count": 1,
   "metadata": {
    "collapsed": false
   },
   "outputs": [],
   "source": [
    "import pandas as pd\n",
    "import numpy as np"
   ]
  },
  {
   "cell_type": "code",
   "execution_count": 2,
   "metadata": {
    "collapsed": false
   },
   "outputs": [],
   "source": [
    "#download the class movie reviews from here:\n",
    "#https://docs.google.com/spreadsheets/d/17rCJzmWxqvAu9rkpkgt4ToccIlY4A1Ffuu1W9X3B8Ag/\n",
    "#then read that in as a pandas dataframe"
   ]
  },
  {
   "cell_type": "code",
   "execution_count": 3,
   "metadata": {
    "collapsed": false
   },
   "outputs": [],
   "source": [
    "M = pd.read_csv(\"Movie_Reviews-Sheet1.csv\", index_col='Name')"
   ]
  },
  {
   "cell_type": "code",
   "execution_count": 4,
   "metadata": {
    "collapsed": false
   },
   "outputs": [],
   "source": [
    "def pearson(s1, s2):\n",
    "    \"\"\"Take two pd.Series objects and return a pearson correlation.\"\"\"\n",
    "    s1_c = s1 - s1.mean()\n",
    "    s2_c = s2 - s2.mean()\n",
    "    return np.sum(s1_c * s2_c) / np.sqrt(np.sum(s1_c ** 2) * np.sum(s2_c ** 2))"
   ]
  },
  {
   "cell_type": "code",
   "execution_count": 5,
   "metadata": {
    "collapsed": false
   },
   "outputs": [],
   "source": [
    "def get_recs(movie_name, M, num):\n",
    "\n",
    "    import numpy as np\n",
    "    reviews = []\n",
    "    for title in M.columns:\n",
    "        if title == movie_name:\n",
    "            continue\n",
    "        cor = pearson(M[movie_name], M[title])\n",
    "        if np.isnan(cor):\n",
    "            continue\n",
    "        else:\n",
    "            reviews.append((title, cor))\n",
    "    \n",
    "    reviews.sort(key=lambda tup: tup[1], reverse=True)\n",
    "    return reviews[:num]\n",
    "\n",
    "    "
   ]
  },
  {
   "cell_type": "markdown",
   "metadata": {},
   "source": [
    "###Question 1:  What movie is most Similar to 'The fault in our stars' (60 pts)\n"
   ]
  },
  {
   "cell_type": "code",
   "execution_count": 12,
   "metadata": {
    "collapsed": false
   },
   "outputs": [],
   "source": [
    "#convert column names to list.\n",
    "cols = M.columns\n",
    "cols = cols.tolist()"
   ]
  },
  {
   "cell_type": "code",
   "execution_count": 16,
   "metadata": {
    "collapsed": false
   },
   "outputs": [
    {
     "data": {
      "text/plain": [
       "'The Fault in Our Stars'"
      ]
     },
     "execution_count": 16,
     "metadata": {},
     "output_type": "execute_result"
    }
   ],
   "source": [
    "cols.pop(13)"
   ]
  },
  {
   "cell_type": "code",
   "execution_count": 20,
   "metadata": {
    "collapsed": false
   },
   "outputs": [
    {
     "name": "stdout",
     "output_type": "stream",
     "text": [
      "The Fault in our Stars - American Sniper\n",
      "-0.125719040155\n",
      "The Fault in our Stars - The Hunger Games: Mockingjay - Part 1\n",
      "0.0591507176915\n",
      "The Fault in our Stars - Guardians of the Galaxy\n",
      "0.148154958948\n",
      "The Fault in our Stars - The Lego Movie\n",
      "0.059899519129\n",
      "The Fault in our Stars - The Hobbit\n",
      "-0.00642607432511\n",
      "The Fault in our Stars - Transformers\n",
      "0.010345558567\n",
      "The Fault in our Stars - Malificent\n",
      "0.213754032137\n",
      "The Fault in our Stars - Big Hero 6\n",
      "-0.0566140412472\n",
      "The Fault in our Stars - Godzilla\n",
      "-0.0473559333683\n",
      "The Fault in our Stars - Interstellar\n",
      "0.250357990933\n",
      "The Fault in our Stars - How to Train your Dragon 2\n",
      "0.157695760254\n",
      "The Fault in our Stars - Gone Girl\n",
      "0.0690287587179\n",
      "The Fault in our Stars - Divergent\n",
      "0.174707090935\n",
      "The Fault in our Stars - Unbroken\n",
      "0.0752013213282\n",
      "The Fault in our Stars - 300: Rise of an Empire\n",
      "-0.0469203626568\n"
     ]
    }
   ],
   "source": [
    "for col in cols:\n",
    "    print \"The Fault in our Stars - %s\" %col\n",
    "    print pearson(M['The Fault in Our Stars'], M[col])"
   ]
  },
  {
   "cell_type": "markdown",
   "metadata": {},
   "source": [
    "It looks like \"Interstellar\" is most similar to \"The Fault in Our Stars.\""
   ]
  },
  {
   "cell_type": "markdown",
   "metadata": {},
   "source": [
    "###Question 2:  Which movie(s) would you most like to see, based on your classmates experience? (40 pts)"
   ]
  },
  {
   "cell_type": "code",
   "execution_count": 9,
   "metadata": {
    "collapsed": false
   },
   "outputs": [
    {
     "name": "stdout",
     "output_type": "stream",
     "text": [
      "American Sniper\n"
     ]
    },
    {
     "name": "stderr",
     "output_type": "stream",
     "text": [
      "/Users/JG/anaconda/lib/python2.7/site-packages/ipykernel/__main__.py:6: FutureWarning: sort is deprecated, use sort_values(inplace=True) for INPLACE sorting\n"
     ]
    }
   ],
   "source": [
    "#HINTS...\n",
    "\n",
    "#the movies I've seen\n",
    "my_ratings = M.ix['Josh Garrett'].dropna()\n",
    "#the movie I've rated the highest\n",
    "my_ratings.sort(ascending=False)\n",
    "#the name of the movie I've rated the highest\n",
    "fav_movie = my_ratings.index[0]\n",
    "print fav_movie"
   ]
  },
  {
   "cell_type": "code",
   "execution_count": 10,
   "metadata": {
    "collapsed": false
   },
   "outputs": [
    {
     "data": {
      "text/plain": [
       "[('The Lego Movie', 0.20474984457573919),\n",
       " ('Gone Girl', 0.19992105616147593),\n",
       " ('Interstellar', 0.13926653869734382),\n",
       " ('300: Rise of an Empire', 0.13375280381735427),\n",
       " ('How to Train your Dragon 2', 0.090452911848110634),\n",
       " ('Transformers', 0.039183373116092629),\n",
       " ('Godzilla', -0.00073102550777749047),\n",
       " ('The Hobbit', -0.006755875333366689),\n",
       " ('Guardians of the Galaxy', -0.017642199079910856),\n",
       " ('The Hunger Games: Mockingjay - Part 1', -0.035051437773473471)]"
      ]
     },
     "execution_count": 10,
     "metadata": {},
     "output_type": "execute_result"
    }
   ],
   "source": [
    "get_recs('American Sniper',M,10) #Outputs a list of recommended movies."
   ]
  },
  {
   "cell_type": "code",
   "execution_count": null,
   "metadata": {
    "collapsed": false
   },
   "outputs": [],
   "source": []
  }
 ],
 "metadata": {
  "anaconda-cloud": {},
  "kernelspec": {
   "display_name": "Python [Root]",
   "language": "python",
   "name": "Python [Root]"
  },
  "language_info": {
   "codemirror_mode": {
    "name": "ipython",
    "version": 2
   },
   "file_extension": ".py",
   "mimetype": "text/x-python",
   "name": "python",
   "nbconvert_exporter": "python",
   "pygments_lexer": "ipython2",
   "version": "2.7.12"
  }
 },
 "nbformat": 4,
 "nbformat_minor": 0
}
